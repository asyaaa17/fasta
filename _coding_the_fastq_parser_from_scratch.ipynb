{
  "nbformat": 4,
  "nbformat_minor": 0,
  "metadata": {
    "colab": {
      "provenance": [],
      "authorship_tag": "ABX9TyM2nnedj9tpyrdkEB0qkiDU",
      "include_colab_link": true
    },
    "kernelspec": {
      "name": "python3",
      "display_name": "Python 3"
    },
    "language_info": {
      "name": "python"
    }
  },
  "cells": [
    {
      "cell_type": "markdown",
      "metadata": {
        "id": "view-in-github",
        "colab_type": "text"
      },
      "source": [
        "<a href=\"https://colab.research.google.com/github/asyaaa17/fasta/blob/main/_coding_the_fastq_parser_from_scratch.ipynb\" target=\"_parent\"><img src=\"https://colab.research.google.com/assets/colab-badge.svg\" alt=\"Open In Colab\"/></a>"
      ]
    },
    {
      "cell_type": "code",
      "execution_count": null,
      "metadata": {
        "colab": {
          "base_uri": "https://localhost:8080/"
        },
        "id": "NpZ9Gb7YmeOi",
        "outputId": "01a63915-c3d9-4c97-ec81-35501d33a071"
      },
      "outputs": [
        {
          "output_type": "stream",
          "name": "stdout",
          "text": [
            "--2023-08-24 06:44:30--  https://sra-pub-run-odp.s3.amazonaws.com/sra/ERR2193926/ERR2193926\n",
            "Resolving sra-pub-run-odp.s3.amazonaws.com (sra-pub-run-odp.s3.amazonaws.com)... 54.231.192.153, 16.182.71.249, 3.5.20.197, ...\n",
            "Connecting to sra-pub-run-odp.s3.amazonaws.com (sra-pub-run-odp.s3.amazonaws.com)|54.231.192.153|:443... connected.\n",
            "HTTP request sent, awaiting response... 200 OK\n",
            "Length: 3348627433 (3.1G) [binary/octet-stream]\n",
            "Saving to: ‘ERR2193926’\n",
            "\n",
            "ERR2193926           23%[===>                ] 743.32M  31.4MB/s    eta 92s    ^C\n"
          ]
        }
      ],
      "source": [
        "!wget https://sra-pub-run-odp.s3.amazonaws.com/sra/ERR2193926/ERR2193926"
      ]
    },
    {
      "cell_type": "code",
      "source": [
        "!apt install tree"
      ],
      "metadata": {
        "colab": {
          "base_uri": "https://localhost:8080/"
        },
        "id": "PnmEuAmYwOPR",
        "outputId": "4aa5908a-3362-45ec-ee3c-c294253713fd"
      },
      "execution_count": null,
      "outputs": [
        {
          "output_type": "stream",
          "name": "stdout",
          "text": [
            "Reading package lists... Done\n",
            "Building dependency tree... Done\n",
            "Reading state information... Done\n",
            "The following NEW packages will be installed:\n",
            "  tree\n",
            "0 upgraded, 1 newly installed, 0 to remove and 16 not upgraded.\n",
            "Need to get 47.9 kB of archives.\n",
            "After this operation, 116 kB of additional disk space will be used.\n",
            "Get:1 http://archive.ubuntu.com/ubuntu jammy/universe amd64 tree amd64 2.0.2-1 [47.9 kB]\n",
            "Fetched 47.9 kB in 0s (122 kB/s)\n",
            "Selecting previously unselected package tree.\n",
            "(Reading database ... 120831 files and directories currently installed.)\n",
            "Preparing to unpack .../tree_2.0.2-1_amd64.deb ...\n",
            "Unpacking tree (2.0.2-1) ...\n",
            "Setting up tree (2.0.2-1) ...\n",
            "Processing triggers for man-db (2.10.2-1) ...\n"
          ]
        }
      ]
    },
    {
      "cell_type": "code",
      "source": [
        "!tree"
      ],
      "metadata": {
        "colab": {
          "base_uri": "https://localhost:8080/"
        },
        "id": "l_M4neNKwRqn",
        "outputId": "8e5aa515-5c9e-4a9d-e282-aef0da541cd7"
      },
      "execution_count": null,
      "outputs": [
        {
          "output_type": "stream",
          "name": "stdout",
          "text": [
            "\u001b[01;34m.\u001b[0m\n",
            "├── \u001b[00mERR2193926\u001b[0m\n",
            "└── \u001b[01;34msample_data\u001b[0m\n",
            "    ├── \u001b[01;32manscombe.json\u001b[0m\n",
            "    ├── \u001b[00mcalifornia_housing_test.csv\u001b[0m\n",
            "    ├── \u001b[00mcalifornia_housing_train.csv\u001b[0m\n",
            "    ├── \u001b[00mmnist_test.csv\u001b[0m\n",
            "    ├── \u001b[00mmnist_train_small.csv\u001b[0m\n",
            "    └── \u001b[01;32mREADME.md\u001b[0m\n",
            "\n",
            "1 directory, 7 files\n"
          ]
        }
      ]
    },
    {
      "cell_type": "code",
      "source": [
        "!rm -rf sample_data"
      ],
      "metadata": {
        "id": "yxW0WrERwTys"
      },
      "execution_count": null,
      "outputs": []
    },
    {
      "cell_type": "code",
      "source": [
        "!tree"
      ],
      "metadata": {
        "colab": {
          "base_uri": "https://localhost:8080/"
        },
        "id": "0YM2Mo4PwZ4y",
        "outputId": "4e7d29a0-ea94-4b67-bfa4-4b58564b384a"
      },
      "execution_count": null,
      "outputs": [
        {
          "output_type": "stream",
          "name": "stdout",
          "text": [
            "\u001b[01;34m.\u001b[0m\n",
            "└── \u001b[00mERR2193926\u001b[0m\n",
            "\n",
            "0 directories, 1 file\n"
          ]
        }
      ]
    },
    {
      "cell_type": "code",
      "source": [
        "!ls -hlrt"
      ],
      "metadata": {
        "colab": {
          "base_uri": "https://localhost:8080/"
        },
        "id": "SBfc8DPtwbVd",
        "outputId": "4b96714e-8a0a-45aa-94cb-53fdd521b982"
      },
      "execution_count": null,
      "outputs": [
        {
          "output_type": "stream",
          "name": "stdout",
          "text": [
            "total 3.2G\n",
            "-rw-r--r-- 1 root root 3.2G Jul 31  2022 ERR2193926\n"
          ]
        }
      ]
    },
    {
      "cell_type": "code",
      "source": [
        "!wget --output-document sratoolkit.tar.gz https://ftp-trace.ncbi.nlm.nih.gov/sra/sdk/current/sratoolkit.current-ubuntu64.tar.gz"
      ],
      "metadata": {
        "colab": {
          "base_uri": "https://localhost:8080/"
        },
        "id": "JxUDTCSBwftC",
        "outputId": "e0ec31e5-f8ed-4ee2-c817-ce4c07683977"
      },
      "execution_count": null,
      "outputs": [
        {
          "output_type": "stream",
          "name": "stdout",
          "text": [
            "--2023-08-23 06:10:35--  https://ftp-trace.ncbi.nlm.nih.gov/sra/sdk/current/sratoolkit.current-ubuntu64.tar.gz\n",
            "Resolving ftp-trace.ncbi.nlm.nih.gov (ftp-trace.ncbi.nlm.nih.gov)... 165.112.9.229, 165.112.9.230, 2607:f220:41f:250::230, ...\n",
            "Connecting to ftp-trace.ncbi.nlm.nih.gov (ftp-trace.ncbi.nlm.nih.gov)|165.112.9.229|:443... connected.\n",
            "HTTP request sent, awaiting response... 200 OK\n",
            "Length: 92822801 (89M) [application/x-gzip]\n",
            "Saving to: ‘sratoolkit.tar.gz’\n",
            "\n",
            "sratoolkit.tar.gz   100%[===================>]  88.52M  98.0MB/s    in 0.9s    \n",
            "\n",
            "2023-08-23 06:10:37 (98.0 MB/s) - ‘sratoolkit.tar.gz’ saved [92822801/92822801]\n",
            "\n"
          ]
        }
      ]
    },
    {
      "cell_type": "code",
      "source": [
        "!tar"
      ],
      "metadata": {
        "colab": {
          "base_uri": "https://localhost:8080/"
        },
        "id": "tA3qUlYryzQg",
        "outputId": "e812eebb-b6ca-46bd-b7b8-af7234baeb91"
      },
      "execution_count": null,
      "outputs": [
        {
          "output_type": "stream",
          "name": "stdout",
          "text": [
            "tar: You must specify one of the '-Acdtrux', '--delete' or '--test-label' options\n",
            "Try 'tar --help' or 'tar --usage' for more information.\n"
          ]
        }
      ]
    },
    {
      "cell_type": "code",
      "source": [
        "!tree"
      ],
      "metadata": {
        "colab": {
          "base_uri": "https://localhost:8080/"
        },
        "id": "DuYduWnDzIwo",
        "outputId": "d3b944fe-ce5e-40a9-8379-e5583777358d"
      },
      "execution_count": null,
      "outputs": [
        {
          "output_type": "stream",
          "name": "stdout",
          "text": [
            "\u001b[01;34m.\u001b[0m\n",
            "├── \u001b[00mERR2193926\u001b[0m\n",
            "└── \u001b[01;31msratoolkit.tar.gz\u001b[0m\n",
            "\n",
            "0 directories, 2 files\n"
          ]
        }
      ]
    },
    {
      "cell_type": "code",
      "source": [
        "!tar xvfz sratoolkit.tar.gz"
      ],
      "metadata": {
        "colab": {
          "base_uri": "https://localhost:8080/"
        },
        "id": "tNXe2IrGy_6_",
        "outputId": "2dd2a365-2a5f-45a5-c4f2-a50a5322f827"
      },
      "execution_count": null,
      "outputs": [
        {
          "output_type": "stream",
          "name": "stdout",
          "text": [
            "sratoolkit.3.0.6-ubuntu64/\n",
            "sratoolkit.3.0.6-ubuntu64/README.md\n",
            "sratoolkit.3.0.6-ubuntu64/README-vdb-config\n",
            "sratoolkit.3.0.6-ubuntu64/schema/\n",
            "sratoolkit.3.0.6-ubuntu64/schema/vdb/\n",
            "sratoolkit.3.0.6-ubuntu64/schema/vdb/vdb.vschema\n",
            "sratoolkit.3.0.6-ubuntu64/schema/vdb/built-in.vschema\n",
            "sratoolkit.3.0.6-ubuntu64/schema/insdc/\n",
            "sratoolkit.3.0.6-ubuntu64/schema/insdc/insdc.vschema\n",
            "sratoolkit.3.0.6-ubuntu64/schema/insdc/sra.vschema\n",
            "sratoolkit.3.0.6-ubuntu64/schema/insdc/seq.vschema\n",
            "sratoolkit.3.0.6-ubuntu64/schema/sra/\n",
            "sratoolkit.3.0.6-ubuntu64/schema/sra/abi.vschema\n",
            "sratoolkit.3.0.6-ubuntu64/schema/sra/pevents.vschema\n",
            "sratoolkit.3.0.6-ubuntu64/schema/sra/generic-fastq.vschema\n",
            "sratoolkit.3.0.6-ubuntu64/schema/sra/454.vschema\n",
            "sratoolkit.3.0.6-ubuntu64/schema/sra/pacbio.vschema\n",
            "sratoolkit.3.0.6-ubuntu64/schema/sra/illumina.vschema\n",
            "sratoolkit.3.0.6-ubuntu64/schema/sra/helicos.vschema\n",
            "sratoolkit.3.0.6-ubuntu64/schema/sra/nanopore.vschema\n",
            "sratoolkit.3.0.6-ubuntu64/schema/sra/ion-torrent.vschema\n",
            "sratoolkit.3.0.6-ubuntu64/schema/ncbi/\n",
            "sratoolkit.3.0.6-ubuntu64/schema/ncbi/clip.vschema\n",
            "sratoolkit.3.0.6-ubuntu64/schema/ncbi/seq-graph.vschema\n",
            "sratoolkit.3.0.6-ubuntu64/schema/ncbi/stats.vschema\n",
            "sratoolkit.3.0.6-ubuntu64/schema/ncbi/ncbi.vschema\n",
            "sratoolkit.3.0.6-ubuntu64/schema/ncbi/wgs-contig.vschema\n",
            "sratoolkit.3.0.6-ubuntu64/schema/ncbi/sra.vschema\n",
            "sratoolkit.3.0.6-ubuntu64/schema/ncbi/spotname.vschema\n",
            "sratoolkit.3.0.6-ubuntu64/schema/ncbi/pnbrdb.vschema\n",
            "sratoolkit.3.0.6-ubuntu64/schema/ncbi/varloc.vschema\n",
            "sratoolkit.3.0.6-ubuntu64/schema/ncbi/seq.vschema\n",
            "sratoolkit.3.0.6-ubuntu64/schema/ncbi/trace.vschema\n",
            "sratoolkit.3.0.6-ubuntu64/schema/align/\n",
            "sratoolkit.3.0.6-ubuntu64/schema/align/refseq.vschema\n",
            "sratoolkit.3.0.6-ubuntu64/schema/align/pileup-stats.vschema\n",
            "sratoolkit.3.0.6-ubuntu64/schema/align/mate-cache.vschema\n",
            "sratoolkit.3.0.6-ubuntu64/schema/align/seq.vschema\n",
            "sratoolkit.3.0.6-ubuntu64/schema/align/align.vschema\n",
            "sratoolkit.3.0.6-ubuntu64/schema/align/qstat.vschema\n",
            "sratoolkit.3.0.6-ubuntu64/schema/csra2/\n",
            "sratoolkit.3.0.6-ubuntu64/schema/csra2/stats.vschema\n",
            "sratoolkit.3.0.6-ubuntu64/schema/csra2/reference.vschema\n",
            "sratoolkit.3.0.6-ubuntu64/schema/csra2/read.vschema\n",
            "sratoolkit.3.0.6-ubuntu64/schema/csra2/csra2.vschema\n",
            "sratoolkit.3.0.6-ubuntu64/bin/\n",
            "sratoolkit.3.0.6-ubuntu64/bin/bam-load.3\n",
            "sratoolkit.3.0.6-ubuntu64/bin/sra-search\n",
            "sratoolkit.3.0.6-ubuntu64/bin/illumina-dump.3.0.6\n",
            "sratoolkit.3.0.6-ubuntu64/bin/cg-load.3.0.6\n",
            "sratoolkit.3.0.6-ubuntu64/bin/fastq-dump-orig.3.0.6\n",
            "sratoolkit.3.0.6-ubuntu64/bin/sra-pileup.3.0.6\n",
            "sratoolkit.3.0.6-ubuntu64/bin/prefetch.3\n",
            "sratoolkit.3.0.6-ubuntu64/bin/sam-dump.3\n",
            "sratoolkit.3.0.6-ubuntu64/bin/sff-dump.3\n",
            "sratoolkit.3.0.6-ubuntu64/bin/vdb-encrypt.3.0.6\n",
            "sratoolkit.3.0.6-ubuntu64/bin/sff-dump\n",
            "sratoolkit.3.0.6-ubuntu64/bin/fastq-dump\n",
            "sratoolkit.3.0.6-ubuntu64/bin/sra-search.3.0.6\n",
            "sratoolkit.3.0.6-ubuntu64/bin/prefetch-orig.3.0.6\n",
            "sratoolkit.3.0.6-ubuntu64/bin/latf-load.3.0.6\n",
            "sratoolkit.3.0.6-ubuntu64/bin/fastq-load.3\n",
            "sratoolkit.3.0.6-ubuntu64/bin/sra-sort.3\n",
            "sratoolkit.3.0.6-ubuntu64/bin/srapath.3.0.6\n",
            "sratoolkit.3.0.6-ubuntu64/bin/illumina-load.3.0.6\n",
            "sratoolkit.3.0.6-ubuntu64/bin/rcexplain.3.0.6\n",
            "sratoolkit.3.0.6-ubuntu64/bin/cache-mgr.3\n",
            "sratoolkit.3.0.6-ubuntu64/bin/vdb-copy.3.0.6\n",
            "sratoolkit.3.0.6-ubuntu64/bin/cache-mgr\n",
            "sratoolkit.3.0.6-ubuntu64/bin/srapath\n",
            "sratoolkit.3.0.6-ubuntu64/bin/prefetch.3.0.6\n",
            "sratoolkit.3.0.6-ubuntu64/bin/kar.3\n",
            "sratoolkit.3.0.6-ubuntu64/bin/kar.3.0.6\n",
            "sratoolkit.3.0.6-ubuntu64/bin/srf-load.3\n",
            "sratoolkit.3.0.6-ubuntu64/bin/illumina-dump\n",
            "sratoolkit.3.0.6-ubuntu64/bin/srapath.3\n",
            "sratoolkit.3.0.6-ubuntu64/bin/vdb-dump.3.0.6\n",
            "sratoolkit.3.0.6-ubuntu64/bin/sam-dump\n",
            "sratoolkit.3.0.6-ubuntu64/bin/vdb-encrypt\n",
            "sratoolkit.3.0.6-ubuntu64/bin/srf-load.3.0.6\n",
            "sratoolkit.3.0.6-ubuntu64/bin/rcexplain\n",
            "sratoolkit.3.0.6-ubuntu64/bin/vdb-decrypt\n",
            "sratoolkit.3.0.6-ubuntu64/bin/vdb-lock.3\n",
            "sratoolkit.3.0.6-ubuntu64/bin/vdb-lock\n",
            "sratoolkit.3.0.6-ubuntu64/bin/ncbi/\n",
            "sratoolkit.3.0.6-ubuntu64/bin/ncbi/default.kfg\n",
            "sratoolkit.3.0.6-ubuntu64/bin/ncbi/certs.kfg\n",
            "sratoolkit.3.0.6-ubuntu64/bin/ncbi/vdb-copy.kfg\n",
            "sratoolkit.3.0.6-ubuntu64/bin/vdb-validate\n",
            "sratoolkit.3.0.6-ubuntu64/bin/rcexplain.3\n",
            "sratoolkit.3.0.6-ubuntu64/bin/vdb-copy.3\n",
            "sratoolkit.3.0.6-ubuntu64/bin/vdb-config\n",
            "sratoolkit.3.0.6-ubuntu64/bin/fasterq-dump-orig.3.0.6\n",
            "sratoolkit.3.0.6-ubuntu64/bin/fastq-load\n",
            "sratoolkit.3.0.6-ubuntu64/bin/sff-load.3\n",
            "sratoolkit.3.0.6-ubuntu64/bin/illumina-load.3\n",
            "sratoolkit.3.0.6-ubuntu64/bin/vdb-dump.3\n",
            "sratoolkit.3.0.6-ubuntu64/bin/test-sra.3\n",
            "sratoolkit.3.0.6-ubuntu64/bin/fastq-load.3.0.6\n",
            "sratoolkit.3.0.6-ubuntu64/bin/vdb-decrypt.3.0.6\n",
            "sratoolkit.3.0.6-ubuntu64/bin/helicos-load\n",
            "sratoolkit.3.0.6-ubuntu64/bin/srapath-orig.3.0.6\n",
            "sratoolkit.3.0.6-ubuntu64/bin/pacbio-load\n",
            "sratoolkit.3.0.6-ubuntu64/bin/helicos-load.3\n",
            "sratoolkit.3.0.6-ubuntu64/bin/sff-dump.3.0.6\n",
            "sratoolkit.3.0.6-ubuntu64/bin/abi-dump.3.0.6\n",
            "sratoolkit.3.0.6-ubuntu64/bin/cache-mgr.3.0.6\n",
            "sratoolkit.3.0.6-ubuntu64/bin/abi-dump\n",
            "sratoolkit.3.0.6-ubuntu64/bin/vdb-unlock.3.0.6\n",
            "sratoolkit.3.0.6-ubuntu64/bin/helicos-load.3.0.6\n",
            "sratoolkit.3.0.6-ubuntu64/bin/test-sra\n",
            "sratoolkit.3.0.6-ubuntu64/bin/vdb-validate.3\n",
            "sratoolkit.3.0.6-ubuntu64/bin/vdb-dump-orig.3.0.6\n",
            "sratoolkit.3.0.6-ubuntu64/bin/illumina-dump.3\n",
            "sratoolkit.3.0.6-ubuntu64/bin/sra-pileup-orig.3.0.6\n",
            "sratoolkit.3.0.6-ubuntu64/bin/dump-ref-fasta.3.0.6\n",
            "sratoolkit.3.0.6-ubuntu64/bin/bam-load\n",
            "sratoolkit.3.0.6-ubuntu64/bin/sra-sort-cg.3.0.6\n",
            "sratoolkit.3.0.6-ubuntu64/bin/sra-stat.3.0.6\n",
            "sratoolkit.3.0.6-ubuntu64/bin/sff-load.3.0.6\n",
            "sratoolkit.3.0.6-ubuntu64/bin/kdbmeta.3\n",
            "sratoolkit.3.0.6-ubuntu64/bin/sra-sort-cg\n",
            "sratoolkit.3.0.6-ubuntu64/bin/fasterq-dump.3\n",
            "sratoolkit.3.0.6-ubuntu64/bin/sra-sort.3.0.6\n",
            "sratoolkit.3.0.6-ubuntu64/bin/latf-load\n",
            "sratoolkit.3.0.6-ubuntu64/bin/vdb-config.3.0.6\n",
            "sratoolkit.3.0.6-ubuntu64/bin/abi-load.3\n",
            "sratoolkit.3.0.6-ubuntu64/bin/pacbio-load.3.0.6\n",
            "sratoolkit.3.0.6-ubuntu64/bin/vdb-unlock\n",
            "sratoolkit.3.0.6-ubuntu64/bin/kdbmeta.3.0.6\n",
            "sratoolkit.3.0.6-ubuntu64/bin/illumina-load\n",
            "sratoolkit.3.0.6-ubuntu64/bin/srf-load\n",
            "sratoolkit.3.0.6-ubuntu64/bin/vdb-encrypt.3\n",
            "sratoolkit.3.0.6-ubuntu64/bin/sra-stat.3\n",
            "sratoolkit.3.0.6-ubuntu64/bin/sra-pileup.3\n",
            "sratoolkit.3.0.6-ubuntu64/bin/align-info\n",
            "sratoolkit.3.0.6-ubuntu64/bin/sra-search.3\n",
            "sratoolkit.3.0.6-ubuntu64/bin/abi-load\n",
            "sratoolkit.3.0.6-ubuntu64/bin/fastq-dump.3.0.6\n",
            "sratoolkit.3.0.6-ubuntu64/bin/vdb-decrypt.3\n",
            "sratoolkit.3.0.6-ubuntu64/bin/fastq-dump.3\n",
            "sratoolkit.3.0.6-ubuntu64/bin/align-info.3.0.6\n",
            "sratoolkit.3.0.6-ubuntu64/bin/dump-ref-fasta.3\n",
            "sratoolkit.3.0.6-ubuntu64/bin/kar\n",
            "sratoolkit.3.0.6-ubuntu64/bin/dump-ref-fasta\n",
            "sratoolkit.3.0.6-ubuntu64/bin/cg-load\n",
            "sratoolkit.3.0.6-ubuntu64/bin/vdb-copy\n",
            "sratoolkit.3.0.6-ubuntu64/bin/vdb-config.3\n",
            "sratoolkit.3.0.6-ubuntu64/bin/sra-sort-cg.3\n",
            "sratoolkit.3.0.6-ubuntu64/bin/sra-stat\n",
            "sratoolkit.3.0.6-ubuntu64/bin/fasterq-dump.3.0.6\n",
            "sratoolkit.3.0.6-ubuntu64/bin/test-sra.3.0.6\n",
            "sratoolkit.3.0.6-ubuntu64/bin/abi-dump.3\n",
            "sratoolkit.3.0.6-ubuntu64/bin/abi-load.3.0.6\n",
            "sratoolkit.3.0.6-ubuntu64/bin/align-info.3\n",
            "sratoolkit.3.0.6-ubuntu64/bin/sam-dump.3.0.6\n",
            "sratoolkit.3.0.6-ubuntu64/bin/sra-sort\n",
            "sratoolkit.3.0.6-ubuntu64/bin/sratools.3.0.6\n",
            "sratoolkit.3.0.6-ubuntu64/bin/kdbmeta\n",
            "sratoolkit.3.0.6-ubuntu64/bin/vdb-dump\n",
            "sratoolkit.3.0.6-ubuntu64/bin/sra-pileup\n",
            "sratoolkit.3.0.6-ubuntu64/bin/latf-load.3\n",
            "sratoolkit.3.0.6-ubuntu64/bin/cg-load.3\n",
            "sratoolkit.3.0.6-ubuntu64/bin/vdb-validate.3.0.6\n",
            "sratoolkit.3.0.6-ubuntu64/bin/bam-load.3.0.6\n",
            "sratoolkit.3.0.6-ubuntu64/bin/prefetch\n",
            "sratoolkit.3.0.6-ubuntu64/bin/fasterq-dump\n",
            "sratoolkit.3.0.6-ubuntu64/bin/pacbio-load.3\n",
            "sratoolkit.3.0.6-ubuntu64/bin/sam-dump-orig.3.0.6\n",
            "sratoolkit.3.0.6-ubuntu64/bin/vdb-unlock.3\n",
            "sratoolkit.3.0.6-ubuntu64/bin/sff-load\n",
            "sratoolkit.3.0.6-ubuntu64/bin/vdb-lock.3.0.6\n",
            "sratoolkit.3.0.6-ubuntu64/example/\n",
            "sratoolkit.3.0.6-ubuntu64/example/perl/\n",
            "sratoolkit.3.0.6-ubuntu64/example/perl/base-stats.pl\n",
            "sratoolkit.3.0.6-ubuntu64/example/perl/mismatch-stats.pl\n",
            "sratoolkit.3.0.6-ubuntu64/example/perl/gene-lookup.pl\n",
            "sratoolkit.3.0.6-ubuntu64/example/perl/simplefastq.pl\n",
            "sratoolkit.3.0.6-ubuntu64/example/perl/splitfastq.pl\n",
            "sratoolkit.3.0.6-ubuntu64/example/perl/dump-reference.pl\n",
            "sratoolkit.3.0.6-ubuntu64/example/perl/quality-stats.pl\n",
            "sratoolkit.3.0.6-ubuntu64/CHANGES\n",
            "sratoolkit.3.0.6-ubuntu64/README-blastn\n"
          ]
        }
      ]
    },
    {
      "cell_type": "code",
      "source": [
        "!./sratoolkit.3.0.6-ubuntu64/bin/fastq-dump.3  --help"
      ],
      "metadata": {
        "colab": {
          "base_uri": "https://localhost:8080/"
        },
        "id": "eTKdBVIxzDGh",
        "outputId": "4a1ebb23-9059-4ccd-c93d-a68084d24b53"
      },
      "execution_count": null,
      "outputs": [
        {
          "output_type": "stream",
          "name": "stdout",
          "text": [
            "/bin/bash: line 1: ./sratoolkit.3.0.6-ubuntu64/bin/fastq-dump.3: No such file or directory\n"
          ]
        }
      ]
    },
    {
      "cell_type": "code",
      "source": [
        "!./sratoolkit.3.0.6-ubuntu64/bin/fastq-dump.3  --split-files ERR2193926 #нужен так как у нас парные ряды (если не укажем будет 12121212)"
      ],
      "metadata": {
        "colab": {
          "base_uri": "https://localhost:8080/"
        },
        "id": "2jNDCg7sziHV",
        "outputId": "42f7cdfb-0f3b-4312-bafd-ff2a815f449a"
      },
      "execution_count": null,
      "outputs": [
        {
          "output_type": "stream",
          "name": "stdout",
          "text": [
            "Read 73792791 spots for ERR2193926\n",
            "Written 73792791 spots for ERR2193926\n"
          ]
        }
      ]
    },
    {
      "cell_type": "code",
      "source": [
        "!ls -hlrt"
      ],
      "metadata": {
        "colab": {
          "base_uri": "https://localhost:8080/"
        },
        "id": "NztIgZ1V1iMP",
        "outputId": "b0df2457-cd53-47e0-fe7a-f0713167e89f"
      },
      "execution_count": null,
      "outputs": [
        {
          "output_type": "stream",
          "name": "stdout",
          "text": [
            "total 29G\n",
            "-rw-r--r-- 1 root root 3.2G Jul 31  2022 ERR2193926\n",
            "drwxrwxr-x 5 root root 4.0K Jun 30 13:50 sratoolkit.3.0.6-ubuntu64\n",
            "-rw-r--r-- 1 root root  89M Jun 30 13:50 sratoolkit.tar.gz\n",
            "-rw-r--r-- 1 root root  13G Aug 23 06:37 ERR2193926_2.fastq\n",
            "-rw-r--r-- 1 root root  13G Aug 23 06:37 ERR2193926_1.fastq\n"
          ]
        }
      ]
    },
    {
      "cell_type": "code",
      "source": [
        "!tree"
      ],
      "metadata": {
        "colab": {
          "base_uri": "https://localhost:8080/"
        },
        "id": "JWjhG2U_Hg9s",
        "outputId": "0fa2cf97-ee1f-4a42-bc87-b99bfc45a35e"
      },
      "execution_count": null,
      "outputs": [
        {
          "output_type": "stream",
          "name": "stdout",
          "text": [
            "\u001b[01;34m.\u001b[0m\n",
            "├── \u001b[00mERR2193926\u001b[0m\n",
            "├── \u001b[00mERR2193926_1.fastq\u001b[0m\n",
            "├── \u001b[00mERR2193926_2.fastq\u001b[0m\n",
            "├── \u001b[01;34msratoolkit.3.0.6-ubuntu64\u001b[0m\n",
            "│   ├── \u001b[01;34mbin\u001b[0m\n",
            "│   │   ├── \u001b[01;36mabi-dump\u001b[0m -> \u001b[01;32mabi-dump.3\u001b[0m\n",
            "│   │   ├── \u001b[01;36mabi-dump.3\u001b[0m -> \u001b[01;32mabi-dump.3.0.6\u001b[0m\n",
            "│   │   ├── \u001b[01;32mabi-dump.3.0.6\u001b[0m\n",
            "│   │   ├── \u001b[01;36mabi-load\u001b[0m -> \u001b[01;32mabi-load.3\u001b[0m\n",
            "│   │   ├── \u001b[01;36mabi-load.3\u001b[0m -> \u001b[01;32mabi-load.3.0.6\u001b[0m\n",
            "│   │   ├── \u001b[01;32mabi-load.3.0.6\u001b[0m\n",
            "│   │   ├── \u001b[01;36malign-info\u001b[0m -> \u001b[01;32malign-info.3\u001b[0m\n",
            "│   │   ├── \u001b[01;36malign-info.3\u001b[0m -> \u001b[01;32malign-info.3.0.6\u001b[0m\n",
            "│   │   ├── \u001b[01;32malign-info.3.0.6\u001b[0m\n",
            "│   │   ├── \u001b[01;36mbam-load\u001b[0m -> \u001b[01;32mbam-load.3\u001b[0m\n",
            "│   │   ├── \u001b[01;36mbam-load.3\u001b[0m -> \u001b[01;32mbam-load.3.0.6\u001b[0m\n",
            "│   │   ├── \u001b[01;32mbam-load.3.0.6\u001b[0m\n",
            "│   │   ├── \u001b[01;36mcache-mgr\u001b[0m -> \u001b[01;32mcache-mgr.3\u001b[0m\n",
            "│   │   ├── \u001b[01;36mcache-mgr.3\u001b[0m -> \u001b[01;32mcache-mgr.3.0.6\u001b[0m\n",
            "│   │   ├── \u001b[01;32mcache-mgr.3.0.6\u001b[0m\n",
            "│   │   ├── \u001b[01;36mcg-load\u001b[0m -> \u001b[01;32mcg-load.3\u001b[0m\n",
            "│   │   ├── \u001b[01;36mcg-load.3\u001b[0m -> \u001b[01;32mcg-load.3.0.6\u001b[0m\n",
            "│   │   ├── \u001b[01;32mcg-load.3.0.6\u001b[0m\n",
            "│   │   ├── \u001b[01;36mdump-ref-fasta\u001b[0m -> \u001b[01;32mdump-ref-fasta.3\u001b[0m\n",
            "│   │   ├── \u001b[01;36mdump-ref-fasta.3\u001b[0m -> \u001b[01;32mdump-ref-fasta.3.0.6\u001b[0m\n",
            "│   │   ├── \u001b[01;32mdump-ref-fasta.3.0.6\u001b[0m\n",
            "│   │   ├── \u001b[01;36mfasterq-dump\u001b[0m -> \u001b[01;32mfasterq-dump.3\u001b[0m\n",
            "│   │   ├── \u001b[01;36mfasterq-dump.3\u001b[0m -> \u001b[01;32mfasterq-dump.3.0.6\u001b[0m\n",
            "│   │   ├── \u001b[01;36mfasterq-dump.3.0.6\u001b[0m -> \u001b[01;32msratools.3.0.6\u001b[0m\n",
            "│   │   ├── \u001b[01;32mfasterq-dump-orig.3.0.6\u001b[0m\n",
            "│   │   ├── \u001b[01;36mfastq-dump\u001b[0m -> \u001b[01;32mfastq-dump.3\u001b[0m\n",
            "│   │   ├── \u001b[01;36mfastq-dump.3\u001b[0m -> \u001b[01;32mfastq-dump.3.0.6\u001b[0m\n",
            "│   │   ├── \u001b[01;36mfastq-dump.3.0.6\u001b[0m -> \u001b[01;32msratools.3.0.6\u001b[0m\n",
            "│   │   ├── \u001b[01;32mfastq-dump-orig.3.0.6\u001b[0m\n",
            "│   │   ├── \u001b[01;36mfastq-load\u001b[0m -> \u001b[01;32mfastq-load.3\u001b[0m\n",
            "│   │   ├── \u001b[01;36mfastq-load.3\u001b[0m -> \u001b[01;32mfastq-load.3.0.6\u001b[0m\n",
            "│   │   ├── \u001b[01;32mfastq-load.3.0.6\u001b[0m\n",
            "│   │   ├── \u001b[01;36mhelicos-load\u001b[0m -> \u001b[01;32mhelicos-load.3\u001b[0m\n",
            "│   │   ├── \u001b[01;36mhelicos-load.3\u001b[0m -> \u001b[01;32mhelicos-load.3.0.6\u001b[0m\n",
            "│   │   ├── \u001b[01;32mhelicos-load.3.0.6\u001b[0m\n",
            "│   │   ├── \u001b[01;36millumina-dump\u001b[0m -> \u001b[01;32millumina-dump.3\u001b[0m\n",
            "│   │   ├── \u001b[01;36millumina-dump.3\u001b[0m -> \u001b[01;32millumina-dump.3.0.6\u001b[0m\n",
            "│   │   ├── \u001b[01;32millumina-dump.3.0.6\u001b[0m\n",
            "│   │   ├── \u001b[01;36millumina-load\u001b[0m -> \u001b[01;32millumina-load.3\u001b[0m\n",
            "│   │   ├── \u001b[01;36millumina-load.3\u001b[0m -> \u001b[01;32millumina-load.3.0.6\u001b[0m\n",
            "│   │   ├── \u001b[01;32millumina-load.3.0.6\u001b[0m\n",
            "│   │   ├── \u001b[01;36mkar\u001b[0m -> \u001b[01;32mkar.3\u001b[0m\n",
            "│   │   ├── \u001b[01;36mkar.3\u001b[0m -> \u001b[01;32mkar.3.0.6\u001b[0m\n",
            "│   │   ├── \u001b[01;32mkar.3.0.6\u001b[0m\n",
            "│   │   ├── \u001b[01;36mkdbmeta\u001b[0m -> \u001b[01;32mkdbmeta.3\u001b[0m\n",
            "│   │   ├── \u001b[01;36mkdbmeta.3\u001b[0m -> \u001b[01;32mkdbmeta.3.0.6\u001b[0m\n",
            "│   │   ├── \u001b[01;32mkdbmeta.3.0.6\u001b[0m\n",
            "│   │   ├── \u001b[01;36mlatf-load\u001b[0m -> \u001b[01;32mlatf-load.3\u001b[0m\n",
            "│   │   ├── \u001b[01;36mlatf-load.3\u001b[0m -> \u001b[01;32mlatf-load.3.0.6\u001b[0m\n",
            "│   │   ├── \u001b[01;32mlatf-load.3.0.6\u001b[0m\n",
            "│   │   ├── \u001b[01;34mncbi\u001b[0m\n",
            "│   │   │   ├── \u001b[00mcerts.kfg\u001b[0m\n",
            "│   │   │   ├── \u001b[00mdefault.kfg\u001b[0m\n",
            "│   │   │   └── \u001b[00mvdb-copy.kfg\u001b[0m\n",
            "│   │   ├── \u001b[01;36mpacbio-load\u001b[0m -> \u001b[01;32mpacbio-load.3\u001b[0m\n",
            "│   │   ├── \u001b[01;36mpacbio-load.3\u001b[0m -> \u001b[01;32mpacbio-load.3.0.6\u001b[0m\n",
            "│   │   ├── \u001b[01;32mpacbio-load.3.0.6\u001b[0m\n",
            "│   │   ├── \u001b[01;36mprefetch\u001b[0m -> \u001b[01;32mprefetch.3\u001b[0m\n",
            "│   │   ├── \u001b[01;36mprefetch.3\u001b[0m -> \u001b[01;32mprefetch.3.0.6\u001b[0m\n",
            "│   │   ├── \u001b[01;36mprefetch.3.0.6\u001b[0m -> \u001b[01;32msratools.3.0.6\u001b[0m\n",
            "│   │   ├── \u001b[01;32mprefetch-orig.3.0.6\u001b[0m\n",
            "│   │   ├── \u001b[01;36mrcexplain\u001b[0m -> \u001b[01;32mrcexplain.3\u001b[0m\n",
            "│   │   ├── \u001b[01;36mrcexplain.3\u001b[0m -> \u001b[01;32mrcexplain.3.0.6\u001b[0m\n",
            "│   │   ├── \u001b[01;32mrcexplain.3.0.6\u001b[0m\n",
            "│   │   ├── \u001b[01;36msam-dump\u001b[0m -> \u001b[01;32msam-dump.3\u001b[0m\n",
            "│   │   ├── \u001b[01;36msam-dump.3\u001b[0m -> \u001b[01;32msam-dump.3.0.6\u001b[0m\n",
            "│   │   ├── \u001b[01;36msam-dump.3.0.6\u001b[0m -> \u001b[01;32msratools.3.0.6\u001b[0m\n",
            "│   │   ├── \u001b[01;32msam-dump-orig.3.0.6\u001b[0m\n",
            "│   │   ├── \u001b[01;36msff-dump\u001b[0m -> \u001b[01;32msff-dump.3\u001b[0m\n",
            "│   │   ├── \u001b[01;36msff-dump.3\u001b[0m -> \u001b[01;32msff-dump.3.0.6\u001b[0m\n",
            "│   │   ├── \u001b[01;32msff-dump.3.0.6\u001b[0m\n",
            "│   │   ├── \u001b[01;36msff-load\u001b[0m -> \u001b[01;32msff-load.3\u001b[0m\n",
            "│   │   ├── \u001b[01;36msff-load.3\u001b[0m -> \u001b[01;32msff-load.3.0.6\u001b[0m\n",
            "│   │   ├── \u001b[01;32msff-load.3.0.6\u001b[0m\n",
            "│   │   ├── \u001b[01;36msrapath\u001b[0m -> \u001b[01;32msrapath.3\u001b[0m\n",
            "│   │   ├── \u001b[01;36msrapath.3\u001b[0m -> \u001b[01;32msrapath.3.0.6\u001b[0m\n",
            "│   │   ├── \u001b[01;36msrapath.3.0.6\u001b[0m -> \u001b[01;32msratools.3.0.6\u001b[0m\n",
            "│   │   ├── \u001b[01;32msrapath-orig.3.0.6\u001b[0m\n",
            "│   │   ├── \u001b[01;36msra-pileup\u001b[0m -> \u001b[01;32msra-pileup.3\u001b[0m\n",
            "│   │   ├── \u001b[01;36msra-pileup.3\u001b[0m -> \u001b[01;32msra-pileup.3.0.6\u001b[0m\n",
            "│   │   ├── \u001b[01;36msra-pileup.3.0.6\u001b[0m -> \u001b[01;32msratools.3.0.6\u001b[0m\n",
            "│   │   ├── \u001b[01;32msra-pileup-orig.3.0.6\u001b[0m\n",
            "│   │   ├── \u001b[01;36msra-search\u001b[0m -> \u001b[01;32msra-search.3\u001b[0m\n",
            "│   │   ├── \u001b[01;36msra-search.3\u001b[0m -> \u001b[01;32msra-search.3.0.6\u001b[0m\n",
            "│   │   ├── \u001b[01;32msra-search.3.0.6\u001b[0m\n",
            "│   │   ├── \u001b[01;36msra-sort\u001b[0m -> \u001b[01;32msra-sort.3\u001b[0m\n",
            "│   │   ├── \u001b[01;36msra-sort.3\u001b[0m -> \u001b[01;32msra-sort.3.0.6\u001b[0m\n",
            "│   │   ├── \u001b[01;32msra-sort.3.0.6\u001b[0m\n",
            "│   │   ├── \u001b[01;36msra-sort-cg\u001b[0m -> \u001b[01;32msra-sort-cg.3\u001b[0m\n",
            "│   │   ├── \u001b[01;36msra-sort-cg.3\u001b[0m -> \u001b[01;32msra-sort-cg.3.0.6\u001b[0m\n",
            "│   │   ├── \u001b[01;32msra-sort-cg.3.0.6\u001b[0m\n",
            "│   │   ├── \u001b[01;36msra-stat\u001b[0m -> \u001b[01;32msra-stat.3\u001b[0m\n",
            "│   │   ├── \u001b[01;36msra-stat.3\u001b[0m -> \u001b[01;32msra-stat.3.0.6\u001b[0m\n",
            "│   │   ├── \u001b[01;32msra-stat.3.0.6\u001b[0m\n",
            "│   │   ├── \u001b[01;32msratools.3.0.6\u001b[0m\n",
            "│   │   ├── \u001b[01;36msrf-load\u001b[0m -> \u001b[01;32msrf-load.3\u001b[0m\n",
            "│   │   ├── \u001b[01;36msrf-load.3\u001b[0m -> \u001b[01;32msrf-load.3.0.6\u001b[0m\n",
            "│   │   ├── \u001b[01;32msrf-load.3.0.6\u001b[0m\n",
            "│   │   ├── \u001b[01;36mtest-sra\u001b[0m -> \u001b[01;32mtest-sra.3\u001b[0m\n",
            "│   │   ├── \u001b[01;36mtest-sra.3\u001b[0m -> \u001b[01;32mtest-sra.3.0.6\u001b[0m\n",
            "│   │   ├── \u001b[01;32mtest-sra.3.0.6\u001b[0m\n",
            "│   │   ├── \u001b[01;36mvdb-config\u001b[0m -> \u001b[01;32mvdb-config.3\u001b[0m\n",
            "│   │   ├── \u001b[01;36mvdb-config.3\u001b[0m -> \u001b[01;32mvdb-config.3.0.6\u001b[0m\n",
            "│   │   ├── \u001b[01;32mvdb-config.3.0.6\u001b[0m\n",
            "│   │   ├── \u001b[01;36mvdb-copy\u001b[0m -> \u001b[01;32mvdb-copy.3\u001b[0m\n",
            "│   │   ├── \u001b[01;36mvdb-copy.3\u001b[0m -> \u001b[01;32mvdb-copy.3.0.6\u001b[0m\n",
            "│   │   ├── \u001b[01;32mvdb-copy.3.0.6\u001b[0m\n",
            "│   │   ├── \u001b[01;36mvdb-decrypt\u001b[0m -> \u001b[01;32mvdb-decrypt.3\u001b[0m\n",
            "│   │   ├── \u001b[01;36mvdb-decrypt.3\u001b[0m -> \u001b[01;32mvdb-decrypt.3.0.6\u001b[0m\n",
            "│   │   ├── \u001b[01;32mvdb-decrypt.3.0.6\u001b[0m\n",
            "│   │   ├── \u001b[01;36mvdb-dump\u001b[0m -> \u001b[01;32mvdb-dump.3\u001b[0m\n",
            "│   │   ├── \u001b[01;36mvdb-dump.3\u001b[0m -> \u001b[01;32mvdb-dump.3.0.6\u001b[0m\n",
            "│   │   ├── \u001b[01;36mvdb-dump.3.0.6\u001b[0m -> \u001b[01;32msratools.3.0.6\u001b[0m\n",
            "│   │   ├── \u001b[01;32mvdb-dump-orig.3.0.6\u001b[0m\n",
            "│   │   ├── \u001b[01;36mvdb-encrypt\u001b[0m -> \u001b[01;32mvdb-encrypt.3\u001b[0m\n",
            "│   │   ├── \u001b[01;36mvdb-encrypt.3\u001b[0m -> \u001b[01;32mvdb-encrypt.3.0.6\u001b[0m\n",
            "│   │   ├── \u001b[01;32mvdb-encrypt.3.0.6\u001b[0m\n",
            "│   │   ├── \u001b[01;36mvdb-lock\u001b[0m -> \u001b[01;32mvdb-lock.3\u001b[0m\n",
            "│   │   ├── \u001b[01;36mvdb-lock.3\u001b[0m -> \u001b[01;32mvdb-lock.3.0.6\u001b[0m\n",
            "│   │   ├── \u001b[01;32mvdb-lock.3.0.6\u001b[0m\n",
            "│   │   ├── \u001b[01;36mvdb-unlock\u001b[0m -> \u001b[01;32mvdb-unlock.3\u001b[0m\n",
            "│   │   ├── \u001b[01;36mvdb-unlock.3\u001b[0m -> \u001b[01;32mvdb-unlock.3.0.6\u001b[0m\n",
            "│   │   ├── \u001b[01;32mvdb-unlock.3.0.6\u001b[0m\n",
            "│   │   ├── \u001b[01;36mvdb-validate\u001b[0m -> \u001b[01;32mvdb-validate.3\u001b[0m\n",
            "│   │   ├── \u001b[01;36mvdb-validate.3\u001b[0m -> \u001b[01;32mvdb-validate.3.0.6\u001b[0m\n",
            "│   │   └── \u001b[01;32mvdb-validate.3.0.6\u001b[0m\n",
            "│   ├── \u001b[00mCHANGES\u001b[0m\n",
            "│   ├── \u001b[01;34mexample\u001b[0m\n",
            "│   │   └── \u001b[01;34mperl\u001b[0m\n",
            "│   │       ├── \u001b[01;32mbase-stats.pl\u001b[0m\n",
            "│   │       ├── \u001b[01;32mdump-reference.pl\u001b[0m\n",
            "│   │       ├── \u001b[01;32mgene-lookup.pl\u001b[0m\n",
            "│   │       ├── \u001b[01;32mmismatch-stats.pl\u001b[0m\n",
            "│   │       ├── \u001b[01;32mquality-stats.pl\u001b[0m\n",
            "│   │       ├── \u001b[01;32msimplefastq.pl\u001b[0m\n",
            "│   │       └── \u001b[01;32msplitfastq.pl\u001b[0m\n",
            "│   ├── \u001b[00mREADME-blastn\u001b[0m\n",
            "│   ├── \u001b[00mREADME.md\u001b[0m\n",
            "│   ├── \u001b[00mREADME-vdb-config\u001b[0m\n",
            "│   └── \u001b[01;34mschema\u001b[0m\n",
            "│       ├── \u001b[01;34malign\u001b[0m\n",
            "│       │   ├── \u001b[00malign.vschema\u001b[0m\n",
            "│       │   ├── \u001b[00mmate-cache.vschema\u001b[0m\n",
            "│       │   ├── \u001b[00mpileup-stats.vschema\u001b[0m\n",
            "│       │   ├── \u001b[00mqstat.vschema\u001b[0m\n",
            "│       │   ├── \u001b[00mrefseq.vschema\u001b[0m\n",
            "│       │   └── \u001b[00mseq.vschema\u001b[0m\n",
            "│       ├── \u001b[01;34mcsra2\u001b[0m\n",
            "│       │   ├── \u001b[00mcsra2.vschema\u001b[0m\n",
            "│       │   ├── \u001b[00mread.vschema\u001b[0m\n",
            "│       │   ├── \u001b[00mreference.vschema\u001b[0m\n",
            "│       │   └── \u001b[00mstats.vschema\u001b[0m\n",
            "│       ├── \u001b[01;34minsdc\u001b[0m\n",
            "│       │   ├── \u001b[00minsdc.vschema\u001b[0m\n",
            "│       │   ├── \u001b[00mseq.vschema\u001b[0m\n",
            "│       │   └── \u001b[00msra.vschema\u001b[0m\n",
            "│       ├── \u001b[01;34mncbi\u001b[0m\n",
            "│       │   ├── \u001b[00mclip.vschema\u001b[0m\n",
            "│       │   ├── \u001b[00mncbi.vschema\u001b[0m\n",
            "│       │   ├── \u001b[00mpnbrdb.vschema\u001b[0m\n",
            "│       │   ├── \u001b[00mseq-graph.vschema\u001b[0m\n",
            "│       │   ├── \u001b[00mseq.vschema\u001b[0m\n",
            "│       │   ├── \u001b[00mspotname.vschema\u001b[0m\n",
            "│       │   ├── \u001b[00msra.vschema\u001b[0m\n",
            "│       │   ├── \u001b[00mstats.vschema\u001b[0m\n",
            "│       │   ├── \u001b[00mtrace.vschema\u001b[0m\n",
            "│       │   ├── \u001b[00mvarloc.vschema\u001b[0m\n",
            "│       │   └── \u001b[00mwgs-contig.vschema\u001b[0m\n",
            "│       ├── \u001b[01;34msra\u001b[0m\n",
            "│       │   ├── \u001b[00m454.vschema\u001b[0m\n",
            "│       │   ├── \u001b[00mabi.vschema\u001b[0m\n",
            "│       │   ├── \u001b[00mgeneric-fastq.vschema\u001b[0m\n",
            "│       │   ├── \u001b[00mhelicos.vschema\u001b[0m\n",
            "│       │   ├── \u001b[00millumina.vschema\u001b[0m\n",
            "│       │   ├── \u001b[00mion-torrent.vschema\u001b[0m\n",
            "│       │   ├── \u001b[00mnanopore.vschema\u001b[0m\n",
            "│       │   ├── \u001b[00mpacbio.vschema\u001b[0m\n",
            "│       │   └── \u001b[00mpevents.vschema\u001b[0m\n",
            "│       └── \u001b[01;34mvdb\u001b[0m\n",
            "│           ├── \u001b[00mbuilt-in.vschema\u001b[0m\n",
            "│           └── \u001b[00mvdb.vschema\u001b[0m\n",
            "└── \u001b[01;31msratoolkit.tar.gz\u001b[0m\n",
            "\n",
            "12 directories, 175 files\n"
          ]
        }
      ]
    },
    {
      "cell_type": "code",
      "source": [
        "fastq_file_1 = \"ERR2193926_1.fastq\"\n",
        "fastq_file_2 = \"ERR2193926_2.fastq\"\n",
        "\n"
      ],
      "metadata": {
        "id": "LvP8eT-412sK"
      },
      "execution_count": null,
      "outputs": []
    },
    {
      "cell_type": "code",
      "source": [
        "!head ERR2193926_1.fastq"
      ],
      "metadata": {
        "colab": {
          "base_uri": "https://localhost:8080/"
        },
        "id": "v2zXGTK5HrJU",
        "outputId": "2675da63-00c3-4d19-bd14-dd396acfc71f"
      },
      "execution_count": null,
      "outputs": [
        {
          "output_type": "stream",
          "name": "stdout",
          "text": [
            "@ERR2193926.1 1 length=50\n",
            "GGCCTGTTCCGCTTTCGCTCGCCACTACACACGGAATCACATTCGTTTTC\n",
            "+ERR2193926.1 1 length=50\n",
            "CCCCCGGGGGGGGGGGGGGGGGGGGGGGGGGGGGGGGGGGGGGGGFGGGG\n",
            "@ERR2193926.2 2 length=50\n",
            "GCAGTCTCGTTAAACAATGTAACTAACGATAAGGGTTGCGCTCGTTGCGG\n",
            "+ERR2193926.2 2 length=50\n",
            "BCBABGGGGGGGGGGGGGGGGGGGGGGCGGGGGGGGGEFGGGGGGGGGGG\n",
            "@ERR2193926.3 3 length=50\n",
            "GGCCTGTTCCGCTTTCGCTCGCCACTACACACGGAATCACATTCGTTTTC\n"
          ]
        }
      ]
    },
    {
      "cell_type": "markdown",
      "source": [
        "![image.png](data:image/png;base64,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)"
      ],
      "metadata": {
        "id": "VpMVRyi5Bgq_"
      }
    },
    {
      "cell_type": "code",
      "source": [
        "### Naive reading fastq pair with while\n",
        "\n",
        "left_reads = []\n",
        "right_reads = []\n",
        "\n",
        "MAX_READS = 10000\n",
        "nreads = 0\n",
        "\n",
        "with open (fastq_file_1) as fh:\n",
        "  for line in fh:\n",
        "    header = line\n",
        "    seq = fh.readline()\n",
        "    strand = fh.readline()\n",
        "    quality = fh.readline()\n",
        "    left_reads.append((header, seq, strand, quality))\n",
        "    nreads += 1\n",
        "    if nreads >= MAX_READS:\n",
        "      break\n",
        "\n",
        "nreads = 0\n",
        "with open (fastq_file_2) as fh:\n",
        " for line in fh:\n",
        "    header = line\n",
        "    seq = fh.readline()\n",
        "    strand = fh.readline()\n",
        "    quality = fh.readline()\n",
        "    right_reads.append((header, seq, strand, quality))\n",
        "    nreads += 1\n",
        "    if nreads >= MAX_READS:\n",
        "      break"
      ],
      "metadata": {
        "id": "bYy6qsry6QNd"
      },
      "execution_count": null,
      "outputs": []
    },
    {
      "cell_type": "code",
      "source": [
        "len(left_reads), len(right_reads)"
      ],
      "metadata": {
        "colab": {
          "base_uri": "https://localhost:8080/"
        },
        "id": "CpEfkQJDLb2B",
        "outputId": "8a1e26cd-9046-4273-9990-7f4e2dec86b9"
      },
      "execution_count": null,
      "outputs": [
        {
          "output_type": "execute_result",
          "data": {
            "text/plain": [
              "(10000, 10000)"
            ]
          },
          "metadata": {},
          "execution_count": 32
        }
      ]
    },
    {
      "cell_type": "code",
      "source": [
        "right_reads[0]"
      ],
      "metadata": {
        "colab": {
          "base_uri": "https://localhost:8080/"
        },
        "id": "RXiGr05QLccW",
        "outputId": "f304ce72-403b-495a-9121-141b9acc3108"
      },
      "execution_count": null,
      "outputs": [
        {
          "output_type": "execute_result",
          "data": {
            "text/plain": [
              "('@ERR2193926.1 1 length=50\\n',\n",
              " 'NTAAAAACCTGAGATCCGGAGGTGTCCGAATGGANCNNNCNNNNNNCTTG\\n',\n",
              " '+ERR2193926.1 1 length=50\\n',\n",
              " '#=ABBGGGGGGGGGGGGGGGGGGGGGGGGGGGGG#=###=######===<\\n')"
            ]
          },
          "metadata": {},
          "execution_count": 28
        }
      ]
    },
    {
      "cell_type": "code",
      "source": [
        "### Naive reading fastq pair with for\n",
        "\n",
        "left_reads = []\n",
        "right_reads = []\n",
        "\n",
        "MAX_READS = 10000\n",
        "nreads = 0\n",
        "\n",
        "with open (fastq_file_1) as fh:\n",
        "  while True and nreads < MAX_READS:\n",
        "    header = fh.readline()\n",
        "    if not header:\n",
        "      break\n",
        "    seq = fh.readline()\n",
        "    strand = fh.readline()\n",
        "    quality = fh.readline()\n",
        "    left_reads.append((header, seq, strand, quality))\n",
        "    nreads += 1\n",
        "\n",
        "nreads = 0\n",
        "with open (fastq_file_2) as fh:\n",
        " while True and nreads < MAX_READS:\n",
        "    header = fh.readline()\n",
        "    if not header:\n",
        "      break\n",
        "    seq = fh.readline()\n",
        "    strand = fh.readline()\n",
        "    quality = fh.readline()\n",
        "    right_reads.append((header, seq, strand, quality))\n",
        "    nreads += 1"
      ],
      "metadata": {
        "id": "8v9pIsIHCUzf"
      },
      "execution_count": null,
      "outputs": []
    },
    {
      "cell_type": "code",
      "source": [
        "len(left_reads), len(right_reads)"
      ],
      "metadata": {
        "colab": {
          "base_uri": "https://localhost:8080/"
        },
        "id": "Dml-CqjNN0nc",
        "outputId": "c3ff6e86-f54e-4919-ae7c-32c4adea31cc"
      },
      "execution_count": null,
      "outputs": [
        {
          "output_type": "execute_result",
          "data": {
            "text/plain": [
              "(10000, 10000)"
            ]
          },
          "metadata": {},
          "execution_count": 40
        }
      ]
    },
    {
      "cell_type": "code",
      "source": [
        "left_reads[0]"
      ],
      "metadata": {
        "colab": {
          "base_uri": "https://localhost:8080/"
        },
        "id": "6ok6bbyyKdGA",
        "outputId": "a3ea5088-f363-49a1-cd7d-ed2e49fd38d0"
      },
      "execution_count": null,
      "outputs": [
        {
          "output_type": "execute_result",
          "data": {
            "text/plain": [
              "('@ERR2193926.1 1 length=50\\n',\n",
              " 'GGCCTGTTCCGCTTTCGCTCGCCACTACACACGGAATCACATTCGTTTTC\\n',\n",
              " '+ERR2193926.1 1 length=50\\n',\n",
              " 'CCCCCGGGGGGGGGGGGGGGGGGGGGGGGGGGGGGGGGGGGGGGGFGGGG\\n')"
            ]
          },
          "metadata": {},
          "execution_count": 22
        }
      ]
    },
    {
      "cell_type": "code",
      "source": [
        "right_reads[0]"
      ],
      "metadata": {
        "colab": {
          "base_uri": "https://localhost:8080/"
        },
        "id": "Ck3DskTPKjVw",
        "outputId": "37ab21a8-04ba-49f1-d09e-f76503f63a59"
      },
      "execution_count": null,
      "outputs": [
        {
          "output_type": "execute_result",
          "data": {
            "text/plain": [
              "('@ERR2193926.1 1 length=50\\n',\n",
              " 'NTAAAAACCTGAGATCCGGAGGTGTCCGAATGGANCNNNCNNNNNNCTTG\\n',\n",
              " '+ERR2193926.1 1 length=50\\n',\n",
              " '#=ABBGGGGGGGGGGGGGGGGGGGGGGGGGGGGG#=###=######===<\\n')"
            ]
          },
          "metadata": {},
          "execution_count": 25
        }
      ]
    },
    {
      "cell_type": "code",
      "source": [
        "### with one loop\n",
        "left_reads = []\n",
        "right_reads = []\n",
        "\n",
        "MAX_READS = 10000\n",
        "nreads = 0\n",
        "\n",
        "with open (fastq_file_1) as fh1:\n",
        " with open (fastq_file_2) as fh2:\n",
        "  while True and nreads < MAX_READS:\n",
        "\n",
        "    header1 = fh1.readline()\n",
        "\n",
        "    if not header:\n",
        "      break\n",
        "\n",
        "    seq1 = fh1.readline()\n",
        "    strand1 = fh1.readline()\n",
        "    quality1 = fh1.readline()\n",
        "    left_reads.append((header1, seq1, strand1, quality1))\n",
        "\n",
        "    header2 = fh2.readline()\n",
        "    seq2 = fh2.readline()\n",
        "    strand2 = fh2.readline()\n",
        "    quality2 = fh2.readline()\n",
        "    right_reads.append((header2, seq2, strand2, quality2))\n",
        "    nreads += 1\n"
      ],
      "metadata": {
        "id": "NjToUowfDgD6"
      },
      "execution_count": null,
      "outputs": []
    },
    {
      "cell_type": "code",
      "source": [
        "len(left_reads), len(right_reads)"
      ],
      "metadata": {
        "colab": {
          "base_uri": "https://localhost:8080/"
        },
        "id": "r3gN6YLjP1Ik",
        "outputId": "c6b48977-3602-4bd1-e7c8-e6461283b18b"
      },
      "execution_count": null,
      "outputs": [
        {
          "output_type": "execute_result",
          "data": {
            "text/plain": [
              "(10000, 10000)"
            ]
          },
          "metadata": {},
          "execution_count": 43
        }
      ]
    },
    {
      "cell_type": "code",
      "source": [
        "### with one loop go to the function\n",
        "\n",
        "def get_fastq_data(fastq_file_1, fastq_file_2, max_reads=None):\n",
        "  left_reads = []\n",
        "  right_reads = []\n",
        "  nreads = 0\n",
        "  with open (fastq_file_1) as fh1:\n",
        "   with open (fastq_file_2) as fh2:\n",
        "    while True:\n",
        "\n",
        "      header1 = fh1.readline()\n",
        "\n",
        "      if not header:\n",
        "        break\n",
        "\n",
        "      seq1 = fh1.readline()\n",
        "      strand1 = fh1.readline()\n",
        "      quality1 = fh1.readline()\n",
        "      left_reads.append((header1, seq1, strand1, quality1))\n",
        "\n",
        "      header2 = fh2.readline()\n",
        "      seq2 = fh2.readline()\n",
        "      strand2 = fh2.readline()\n",
        "      quality2 = fh2.readline()\n",
        "      right_reads.append((header2, seq2, strand2, quality2))\n",
        "\n",
        "      nreads += 1\n",
        "      if nreads >= max_reads:\n",
        "        break\n",
        "\n",
        "   return left_reads, right_reads"
      ],
      "metadata": {
        "id": "H-MuFb8lFa7z"
      },
      "execution_count": null,
      "outputs": []
    },
    {
      "cell_type": "code",
      "source": [
        "left_reads, right_reads = get_fastq_data(fastq_file_1, fastq_file_2, max_reads=MAX_READS)\n",
        "len(left_reads), len(right_reads)"
      ],
      "metadata": {
        "colab": {
          "base_uri": "https://localhost:8080/"
        },
        "id": "rt17HhZ5GHCG",
        "outputId": "cd890251-977c-4517-f101-1267a5929f65"
      },
      "execution_count": null,
      "outputs": [
        {
          "output_type": "execute_result",
          "data": {
            "text/plain": [
              "(1, 1)"
            ]
          },
          "metadata": {},
          "execution_count": 54
        }
      ]
    },
    {
      "cell_type": "code",
      "source": [
        "### with one loop go to the iterator\n",
        "\n",
        "def iter_fastq_data(fastq_file_1, fastq_file_2, max_reads=None):\n",
        "\n",
        "\n",
        "  nreads = 0\n",
        "  with open (fastq_file_1) as fh1:\n",
        "   with open (fastq_file_2) as fh2:\n",
        "    while True:\n",
        "      header1 = fh1.readline()\n",
        "\n",
        "      if not header:\n",
        "        break\n",
        "\n",
        "      seq1 = fh1.readline()\n",
        "      strand1 = fh1.readline()\n",
        "      quality1 = fh1.readline()\n",
        "      left_data = (header1, seq1, strand1, quality1)\n",
        "\n",
        "      header2 = fh2.readline()\n",
        "      seq2 = fh2.readline()\n",
        "      strand2 = fh2.readline()\n",
        "      quality2 = fh2.readline()\n",
        "      right_data = (header2, seq2, strand2, quality2)\n",
        "\n",
        "      yield left_data, right_data\n",
        "\n",
        "      nreads += 1\n",
        "      if nreads >= max_reads:\n",
        "        break\n",
        "\n"
      ],
      "metadata": {
        "id": "kZTfB4h2bXcg"
      },
      "execution_count": null,
      "outputs": []
    },
    {
      "cell_type": "code",
      "source": [
        "for left, right in iter_fastq_data(fastq_file_1, fastq_file_2, max_reads=10):\n",
        "  print(left, right)"
      ],
      "metadata": {
        "colab": {
          "base_uri": "https://localhost:8080/"
        },
        "id": "ZqZK-ZfBcQnp",
        "outputId": "8f461ccd-8df9-403e-9161-f776c5236470"
      },
      "execution_count": null,
      "outputs": [
        {
          "output_type": "stream",
          "name": "stdout",
          "text": [
            "('@ERR2193926.1 1 length=50\\n', 'GGCCTGTTCCGCTTTCGCTCGCCACTACACACGGAATCACATTCGTTTTC\\n', '+ERR2193926.1 1 length=50\\n', 'CCCCCGGGGGGGGGGGGGGGGGGGGGGGGGGGGGGGGGGGGGGGGFGGGG\\n') ('@ERR2193926.1 1 length=50\\n', 'NTAAAAACCTGAGATCCGGAGGTGTCCGAATGGANCNNNCNNNNNNCTTG\\n', '+ERR2193926.1 1 length=50\\n', '#=ABBGGGGGGGGGGGGGGGGGGGGGGGGGGGGG#=###=######===<\\n')\n",
            "('@ERR2193926.2 2 length=50\\n', 'GCAGTCTCGTTAAACAATGTAACTAACGATAAGGGTTGCGCTCGTTGCGG\\n', '+ERR2193926.2 2 length=50\\n', 'BCBABGGGGGGGGGGGGGGGGGGGGGGCGGGGGGGGGEFGGGGGGGGGGG\\n') ('@ERR2193926.2 2 length=50\\n', 'NAATGAAACTCAAACGGAATTGACGGGGACCCGCACAAGTGGNNNAGCAT\\n', '+ERR2193926.2 2 length=50\\n', '#<<ABGGGGGGGGGGGGGGGGGGGGGGGGGGGGGGGGGGGGG###0==CF\\n')\n",
            "('@ERR2193926.3 3 length=50\\n', 'GGCCTGTTCCGCTTTCGCTCGCCACTACACACGGAATCACATTCGTTTTC\\n', '+ERR2193926.3 3 length=50\\n', 'CCCCCGGGGGGGGGGGGGGGGGGGGGGGGGGGGGGGGGGGGGGGGGGGGG\\n') ('@ERR2193926.3 3 length=50\\n', 'NTTGGCACTAAAAGGCGATGAAGGACGTGTTAACCTGCGATANNNTTCGG\\n', '+ERR2193926.3 3 length=50\\n', '#=ABBGGGGGGGGGGGGGGGGGGGGGGGGGGGGGGGGGGGGG###==EGG\\n')\n",
            "('@ERR2193926.4 4 length=50\\n', 'GGGCTCGTTGCGGGACTTAACCCAACATCTCACGACACGAGCTGACGACA\\n', '+ERR2193926.4 4 length=50\\n', '<3>A=FGGG>GDGGB/1=<C>:FFB>FGGG1FEFDAB/FDB</?119CG@\\n') ('@ERR2193926.4 4 length=50\\n', 'CGAAAAACCTTACCTAGACTTGACATCCTTGGCAAAGTTATGGAAACATA\\n', '+ERR2193926.4 4 length=50\\n', ':<3:A;0E/=@B11=;EFDFGG@B1BGGGGGCCD1:E=BGGG1:EF1C:1\\n')\n",
            "('@ERR2193926.5 5 length=50\\n', 'CCCGTTTCGGGTCTATGATAACAAACAAACGCTCTCTTAAAACTCGCTTT\\n', '+ERR2193926.5 5 length=50\\n', 'CCCCBGGGGGGGGGGGGGGGGGGGGGGGGGGGGGGGGGGGGGGGGGGGGG\\n') ('@ERR2193926.5 5 length=50\\n', 'ATTGGGTAAGCCTAAATACTAATTAGTGACCGATAGCGAAACAGTACCGT\\n', '+ERR2193926.5 5 length=50\\n', 'BBCCBGGGGGGGGGGGGGGGGGGGGGGGGGGGGGGGGGGGGGGGGGGGGF\\n')\n",
            "('@ERR2193926.6 6 length=50\\n', 'GTTCGTTCTCGGTACTGGTTACAGTTAAATTAGCCCTAGCAGCTTTTCTT\\n', '+ERR2193926.6 6 length=50\\n', 'BBBCBFGGGGGGGGGGGGGGGGGGGGGGGGGGGGGGGGGGGGGGEGGGGG\\n') ('@ERR2193926.6 6 length=50\\n', 'TGAGAATCTCCCAAACCGATTGACTAAGGTTTCCTGGACCAGGGTCGTCC\\n', '+ERR2193926.6 6 length=50\\n', 'AAAABFFGGGGGGGGGGGGGGGGGGGGGGGGGGGGCCGGGGGGGGGDGGG\\n')\n",
            "('@ERR2193926.7 7 length=50\\n', 'CCCCTCTCGTTCTTCACTGCGGCTTACTTTTAGATAAGCACCCCTTCTCG\\n', '+ERR2193926.7 7 length=50\\n', 'CCCCCGGGGGGGGGGGGGGFCEGGGGGGGGGGGGGGGGGGGGGGGFGGGG\\n') ('@ERR2193926.7 7 length=50\\n', 'GACTGATGGAGTGACAAAGAAGGTTATCCACCCCCATTATTGGATTTGGG\\n', '+ERR2193926.7 7 length=50\\n', 'BBBBBEFCFGGGGGGGGGGGGGGGGGGGGGGGGGFGGEEGGFGGGGGEGG\\n')\n",
            "('@ERR2193926.8 8 length=50\\n', 'GGTGTTTTGATCAATATTAAGCTACAGTAAAGCTTCACGGGGTCTTTCCG\\n', '+ERR2193926.8 8 length=50\\n', 'AB@B<?FGGGGGGGGGGGGGGGGGGGGGGGCGGGEGGGBGGG<EFGGGGG\\n') ('@ERR2193926.8 8 length=50\\n', 'GTGATGTATATGGGGTGACACCTGCCCAGTGCTGGAAGGTTAAAGAAGGA\\n', '+ERR2193926.8 8 length=50\\n', 'CCCBBGGGFGGGGGDGGGGGGBFGGGGGGGGGGGEEFGGFGEDGGGBGEG\\n')\n",
            "('@ERR2193926.9 9 length=50\\n', 'AGGAAACCTTAGTCAATCGGTTTGGGAGATTCTCACTCCCAAGCGTTACT\\n', '+ERR2193926.9 9 length=50\\n', 'BCCCBEGGGGGGFGGGGGG<CGGGGGGGGEGGGGGGGGGGGGGFBFDGGG\\n') ('@ERR2193926.9 9 length=50\\n', 'GGATGTGAAAGTGCTAAAACAGCAAGGATGTTGGCTTAGAAGCAGCCATC\\n', '+ERR2193926.9 9 length=50\\n', 'BA3AAGGGGGGGGGGGGGGGGGGGGGGGGGGGEFGGGGGGGGGGGGGGGG\\n')\n",
            "('@ERR2193926.10 10 length=50\\n', 'CGTGTCTCAGTCCCATTGTGGCTATTCTACTTCTCAGCATAGCTACACGT\\n', '+ERR2193926.10 10 length=50\\n', 'BCB@AGGGGGGGGGCGGGGGGGGFGGGGGGGG@FEC1FGGGGGECGGGGG\\n') ('@ERR2193926.10 10 length=50\\n', 'CCATATCAGCTAGTTGGTAGGGTAATGGCCTACCAAGGCAATGACGTGTA\\n', '+ERR2193926.10 10 length=50\\n', 'BBBBBDGGGGGGGGGFGG1D@GBGGGGCGGGGGGGGGGGGGGGGGBGGGG\\n')\n"
          ]
        }
      ]
    },
    {
      "cell_type": "code",
      "source": [
        "### with one loop go to the iterator and reader\n",
        "\n",
        "def get_read(fh):\n",
        "   #Return one read from open file handler.\n",
        "\n",
        "  header = fh.readline()\n",
        "  if not header:\n",
        "    return None\n",
        "  seq = fh.readline()\n",
        "  strand = fh.readline()\n",
        "  quality = fh.readline()\n",
        "  return (header, seq, strand)\n",
        "\n",
        "def iter_fastq_data(fastq_file_1, fastq_file_2, max_reads=None):\n",
        "\n",
        "  nreads = 0\n",
        "  with open (fastq_file_1) as fh1:\n",
        "   with open (fastq_file_2) as fh2:\n",
        "    while True:\n",
        "      left_data = get_read(fh1)\n",
        "\n",
        "      if left_data is None:\n",
        "        break\n",
        "\n",
        "      right_data = get_read(fh2)\n",
        "\n",
        "      if right_data is None:\n",
        "        break\n",
        "\n",
        "      yield left_data, right_data\n",
        "\n",
        "      nreads += 1\n",
        "      if nreads >= max_reads:\n",
        "        break"
      ],
      "metadata": {
        "id": "-9I05nAucwLV"
      },
      "execution_count": null,
      "outputs": []
    },
    {
      "cell_type": "code",
      "source": [
        "for left, right in iter_fastq_data(fastq_file_1, fastq_file_2, max_reads=10):\n",
        "  print(left, right)"
      ],
      "metadata": {
        "colab": {
          "base_uri": "https://localhost:8080/"
        },
        "id": "-3aA7Uf1ep39",
        "outputId": "0d5e6e81-460a-48ca-b694-398920215683"
      },
      "execution_count": null,
      "outputs": [
        {
          "output_type": "stream",
          "name": "stdout",
          "text": [
            "('@ERR2193926.1 1 length=50\\n', 'GGCCTGTTCCGCTTTCGCTCGCCACTACACACGGAATCACATTCGTTTTC\\n', '+ERR2193926.1 1 length=50\\n') ('@ERR2193926.1 1 length=50\\n', 'NTAAAAACCTGAGATCCGGAGGTGTCCGAATGGANCNNNCNNNNNNCTTG\\n', '+ERR2193926.1 1 length=50\\n')\n",
            "('@ERR2193926.2 2 length=50\\n', 'GCAGTCTCGTTAAACAATGTAACTAACGATAAGGGTTGCGCTCGTTGCGG\\n', '+ERR2193926.2 2 length=50\\n') ('@ERR2193926.2 2 length=50\\n', 'NAATGAAACTCAAACGGAATTGACGGGGACCCGCACAAGTGGNNNAGCAT\\n', '+ERR2193926.2 2 length=50\\n')\n",
            "('@ERR2193926.3 3 length=50\\n', 'GGCCTGTTCCGCTTTCGCTCGCCACTACACACGGAATCACATTCGTTTTC\\n', '+ERR2193926.3 3 length=50\\n') ('@ERR2193926.3 3 length=50\\n', 'NTTGGCACTAAAAGGCGATGAAGGACGTGTTAACCTGCGATANNNTTCGG\\n', '+ERR2193926.3 3 length=50\\n')\n",
            "('@ERR2193926.4 4 length=50\\n', 'GGGCTCGTTGCGGGACTTAACCCAACATCTCACGACACGAGCTGACGACA\\n', '+ERR2193926.4 4 length=50\\n') ('@ERR2193926.4 4 length=50\\n', 'CGAAAAACCTTACCTAGACTTGACATCCTTGGCAAAGTTATGGAAACATA\\n', '+ERR2193926.4 4 length=50\\n')\n",
            "('@ERR2193926.5 5 length=50\\n', 'CCCGTTTCGGGTCTATGATAACAAACAAACGCTCTCTTAAAACTCGCTTT\\n', '+ERR2193926.5 5 length=50\\n') ('@ERR2193926.5 5 length=50\\n', 'ATTGGGTAAGCCTAAATACTAATTAGTGACCGATAGCGAAACAGTACCGT\\n', '+ERR2193926.5 5 length=50\\n')\n",
            "('@ERR2193926.6 6 length=50\\n', 'GTTCGTTCTCGGTACTGGTTACAGTTAAATTAGCCCTAGCAGCTTTTCTT\\n', '+ERR2193926.6 6 length=50\\n') ('@ERR2193926.6 6 length=50\\n', 'TGAGAATCTCCCAAACCGATTGACTAAGGTTTCCTGGACCAGGGTCGTCC\\n', '+ERR2193926.6 6 length=50\\n')\n",
            "('@ERR2193926.7 7 length=50\\n', 'CCCCTCTCGTTCTTCACTGCGGCTTACTTTTAGATAAGCACCCCTTCTCG\\n', '+ERR2193926.7 7 length=50\\n') ('@ERR2193926.7 7 length=50\\n', 'GACTGATGGAGTGACAAAGAAGGTTATCCACCCCCATTATTGGATTTGGG\\n', '+ERR2193926.7 7 length=50\\n')\n",
            "('@ERR2193926.8 8 length=50\\n', 'GGTGTTTTGATCAATATTAAGCTACAGTAAAGCTTCACGGGGTCTTTCCG\\n', '+ERR2193926.8 8 length=50\\n') ('@ERR2193926.8 8 length=50\\n', 'GTGATGTATATGGGGTGACACCTGCCCAGTGCTGGAAGGTTAAAGAAGGA\\n', '+ERR2193926.8 8 length=50\\n')\n",
            "('@ERR2193926.9 9 length=50\\n', 'AGGAAACCTTAGTCAATCGGTTTGGGAGATTCTCACTCCCAAGCGTTACT\\n', '+ERR2193926.9 9 length=50\\n') ('@ERR2193926.9 9 length=50\\n', 'GGATGTGAAAGTGCTAAAACAGCAAGGATGTTGGCTTAGAAGCAGCCATC\\n', '+ERR2193926.9 9 length=50\\n')\n",
            "('@ERR2193926.10 10 length=50\\n', 'CGTGTCTCAGTCCCATTGTGGCTATTCTACTTCTCAGCATAGCTACACGT\\n', '+ERR2193926.10 10 length=50\\n') ('@ERR2193926.10 10 length=50\\n', 'CCATATCAGCTAGTTGGTAGGGTAATGGCCTACCAAGGCAATGACGTGTA\\n', '+ERR2193926.10 10 length=50\\n')\n"
          ]
        }
      ]
    },
    {
      "cell_type": "code",
      "source": [
        "### with one loop go to the iterator and reader\n",
        "\n",
        "class Read:\n",
        "\n",
        "   def __init__(self, header, seq, strand, quality):\n",
        "    self.header = header\n",
        "    self.seq = seq\n",
        "    self.strand = strand\n",
        "    self.quality = quality\n",
        "\n",
        "   def __repr__(self):\n",
        "    return f\"{self.header}\"\n",
        "\n",
        "   def __str__(self):\n",
        "    return f\"{self.header}\"\n",
        "\n",
        "   def as__fastq(self):\n",
        "     return \"\\n\".join((self.header, self.seq, self.strand, self.quality))\n",
        "\n",
        "def get_read(fh):\n",
        "   #Return one read from open file handler.\n",
        "\n",
        "  header = fh.readline()\n",
        "  if not header:\n",
        "    return None\n",
        "  header = header.rstrip()\n",
        "  seq = fh.readline().rstrip()\n",
        "  strand = fh.readline().rstrip()\n",
        "  quality = fh.readline().rstrip()\n",
        "  return Read(header, seq, strand, quality)\n",
        "\n",
        "def iter_fastq_data(fastq_file_1, fastq_file_2, max_reads=None):\n",
        "\n",
        "  nreads = 0\n",
        "  with open (fastq_file_1) as fh1:\n",
        "   with open (fastq_file_2) as fh2:\n",
        "    while True:\n",
        "      left_data = get_read(fh1)\n",
        "      right_data = get_read(fh2)\n",
        "\n",
        "      yield left_data, right_data\n",
        "\n",
        "      nreads += 1\n",
        "      if nreads >= max_reads:\n",
        "        break\n"
      ],
      "metadata": {
        "id": "g3denrirep6x"
      },
      "execution_count": null,
      "outputs": []
    },
    {
      "cell_type": "code",
      "source": [
        "for left, right in iter_fastq_data(fastq_file_1, fastq_file_2, max_reads=10):\n",
        "  print(left.as__fastq())"
      ],
      "metadata": {
        "colab": {
          "base_uri": "https://localhost:8080/",
          "height": 192
        },
        "id": "9DyDCOajcw9v",
        "outputId": "32c0ea26-3f86-4d75-b3cb-4664898e9f16"
      },
      "execution_count": null,
      "outputs": [
        {
          "output_type": "error",
          "ename": "NameError",
          "evalue": "ignored",
          "traceback": [
            "\u001b[0;31m---------------------------------------------------------------------------\u001b[0m",
            "\u001b[0;31mNameError\u001b[0m                                 Traceback (most recent call last)",
            "\u001b[0;32m<ipython-input-3-0bd6d8f640b2>\u001b[0m in \u001b[0;36m<cell line: 1>\u001b[0;34m()\u001b[0m\n\u001b[0;32m----> 1\u001b[0;31m \u001b[0;32mfor\u001b[0m \u001b[0mleft\u001b[0m\u001b[0;34m,\u001b[0m \u001b[0mright\u001b[0m \u001b[0;32min\u001b[0m \u001b[0miter_fastq_data\u001b[0m\u001b[0;34m(\u001b[0m\u001b[0mfastq_file_1\u001b[0m\u001b[0;34m,\u001b[0m \u001b[0mfastq_file_2\u001b[0m\u001b[0;34m,\u001b[0m \u001b[0mmax_reads\u001b[0m\u001b[0;34m=\u001b[0m\u001b[0;36m10\u001b[0m\u001b[0;34m)\u001b[0m\u001b[0;34m:\u001b[0m\u001b[0;34m\u001b[0m\u001b[0;34m\u001b[0m\u001b[0m\n\u001b[0m\u001b[1;32m      2\u001b[0m   \u001b[0mprint\u001b[0m\u001b[0;34m(\u001b[0m\u001b[0mleft\u001b[0m\u001b[0;34m.\u001b[0m\u001b[0mas__fastq\u001b[0m\u001b[0;34m(\u001b[0m\u001b[0;34m)\u001b[0m\u001b[0;34m)\u001b[0m\u001b[0;34m\u001b[0m\u001b[0;34m\u001b[0m\u001b[0m\n",
            "\u001b[0;31mNameError\u001b[0m: name 'iter_fastq_data' is not defined"
          ]
        }
      ]
    },
    {
      "cell_type": "code",
      "source": [
        "### Dataclass optimisation #python 3.9+\n",
        "\n",
        "from dataclasses import dataclass\n",
        "\n",
        "@dataclass\n",
        "class Read:\n",
        "   header: str\n",
        "   seq: str\n",
        "   strand: str\n",
        "   quality: str\n",
        "\n",
        "   def __repr__(self):\n",
        "    return f\"{self.header}\"\n",
        "\n",
        "   def __str__(self):\n",
        "    return f\"{self.header}\"\n",
        "\n",
        "   def as__fastq(self):\n",
        "     return \"\\n\".join((self.header, self.seq, self.strand, self.quality))\n",
        "   def __len__(self):\n",
        "    return len(self.seq)\n",
        "\n",
        "\n",
        "def get_read(fh):\n",
        "   #Return one read from open file handler.\n",
        "\n",
        "  header = fh.readline()\n",
        "  if not header:\n",
        "    return None\n",
        "  header = header.rstrip()\n",
        "  seq = fh.readline().rstrip()\n",
        "  strand = fh.readline().rstrip()\n",
        "  quality = fh.readline().rstrip()\n",
        "  return Read(header, seq, strand, quality)\n",
        "\n",
        "def iter_fastq_data(fastq_file_1, fastq_file_2, max_reads=None):\n",
        "\n",
        "  nreads = 0\n",
        "  with open (fastq_file_1) as fh1:\n",
        "   with open (fastq_file_2) as fh2:\n",
        "    while True:\n",
        "      left_data = get_read(fh1)\n",
        "      right_data = get_read(fh2)\n",
        "\n",
        "      yield left_data, right_data\n",
        "\n",
        "      nreads += 1\n",
        "      if nreads >= max_reads:\n",
        "        break"
      ],
      "metadata": {
        "id": "hXP20gmITAzC"
      },
      "execution_count": null,
      "outputs": []
    },
    {
      "cell_type": "code",
      "source": [
        "for left, right in iter_fastq_data(fastq_file_1, fastq_file_2, max_reads=10):\n",
        "  print(len(left), len(right))"
      ],
      "metadata": {
        "id": "UPUcFgnaUCQ1"
      },
      "execution_count": null,
      "outputs": []
    },
    {
      "cell_type": "code",
      "source": [
        "def iter_random_reads(fastq_file_1, fastq_file_2, max_reads=None):\n",
        "  pass\n"
      ],
      "metadata": {
        "id": "OFA-dK47cxn8"
      },
      "execution_count": null,
      "outputs": []
    },
    {
      "cell_type": "code",
      "source": [
        "def validate_data(fastq_data)\n",
        "  pass"
      ],
      "metadata": {
        "id": "3XtIogCWczHM"
      },
      "execution_count": null,
      "outputs": []
    },
    {
      "cell_type": "code",
      "source": [
        "def predict_data(fastq_data)\n",
        "  pass"
      ],
      "metadata": {
        "id": "lQq72F9ddmeb"
      },
      "execution_count": null,
      "outputs": []
    },
    {
      "cell_type": "code",
      "source": [
        "#todo run fastqdump"
      ],
      "metadata": {
        "id": "TijeAa6Sd5O5"
      },
      "execution_count": null,
      "outputs": []
    }
  ]
}